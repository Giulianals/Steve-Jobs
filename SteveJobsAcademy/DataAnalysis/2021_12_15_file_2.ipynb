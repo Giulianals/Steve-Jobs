{
 "cells": [
  {
   "cell_type": "code",
   "execution_count": 4,
   "id": "2b0ba6ea",
   "metadata": {},
   "outputs": [
    {
     "data": {
      "text/plain": [
       "float"
      ]
     },
     "execution_count": 4,
     "metadata": {},
     "output_type": "execute_result"
    }
   ],
   "source": [
    "#strutture di controllo\n",
    "\n",
    "#assegnamento\n",
    "#automaticamente crea la variabile e le assegna il tipo\n",
    "#python usa il metodo \"duck typing\"\n",
    "\n",
    "a=1\n",
    "b=2.1\n",
    "C=\"ciao\"\n",
    "d=True\n",
    "\n",
    "#uso del duck typing\n",
    "e=a+b #riconosce un float perchè b è un float\n",
    "type(e)"
   ]
  },
  {
   "cell_type": "code",
   "execution_count": 1,
   "id": "3cde1f4d",
   "metadata": {},
   "outputs": [
    {
     "name": "stdout",
     "output_type": "stream",
     "text": [
      "2021_12_15_file_1.ipynb  2021_12_15_file_2.ipynb  index.py\r\n"
     ]
    }
   ],
   "source": [
    "ls\n"
   ]
  },
  {
   "cell_type": "code",
   "execution_count": 2,
   "id": "8ff15d73",
   "metadata": {},
   "outputs": [
    {
     "data": {
      "text/plain": [
       "'/Users/giulianalaspina/SteveJobs/DataAnalysis'"
      ]
     },
     "execution_count": 2,
     "metadata": {},
     "output_type": "execute_result"
    }
   ],
   "source": [
    "pwd #print working directory dice il percorso della cartella"
   ]
  },
  {
   "cell_type": "code",
   "execution_count": 3,
   "id": "a8e8e76e",
   "metadata": {},
   "outputs": [
    {
     "data": {
      "text/plain": [
       "['In',\n",
       " 'Out',\n",
       " '_',\n",
       " '_2',\n",
       " '__',\n",
       " '___',\n",
       " '__builtin__',\n",
       " '__builtins__',\n",
       " '__doc__',\n",
       " '__loader__',\n",
       " '__name__',\n",
       " '__package__',\n",
       " '__spec__',\n",
       " '_dh',\n",
       " '_exit_code',\n",
       " '_i',\n",
       " '_i1',\n",
       " '_i2',\n",
       " '_i3',\n",
       " '_ih',\n",
       " '_ii',\n",
       " '_iii',\n",
       " '_oh',\n",
       " 'exit',\n",
       " 'get_ipython',\n",
       " 'quit']"
      ]
     },
     "execution_count": 3,
     "metadata": {},
     "output_type": "execute_result"
    }
   ],
   "source": [
    "dir() #funzione predefinita che racconta cosa c'è dentro la memoria riferita solo a python"
   ]
  },
  {
   "cell_type": "code",
   "execution_count": 6,
   "id": "e3f0f191",
   "metadata": {},
   "outputs": [
    {
     "name": "stdout",
     "output_type": "stream",
     "text": [
      "Inserisci un valore per la base 4\n",
      "<class 'str'>\n",
      "Inserisci un valore per la base12\n",
      "<class 'float'>\n"
     ]
    }
   ],
   "source": [
    "#calcoaliamo l'area di in rettangolo\n",
    "#ottenendo i valori in modo interattivo dall'utente\n",
    "\n",
    "base=input(\"Inserisci un valore per la base \")\n",
    "print(type(base)) # input restituisce sempre una stringa \n",
    "#se voglio che venga trattato da numero bisogna forzarlo custing\n",
    "\n",
    "base=float (input(\"Inserisci un valore per la base \"))\n",
    "print(type(base))"
   ]
  },
  {
   "cell_type": "code",
   "execution_count": 7,
   "id": "40a6b94c",
   "metadata": {},
   "outputs": [
    {
     "name": "stdout",
     "output_type": "stream",
     "text": [
      "Inserisci un valore per la base 12\n",
      "inserisci un valore per l'altezza 4\n",
      "il rettangolo di base 12.0e altezza 4.0ha come area: 48.0\n"
     ]
    }
   ],
   "source": [
    "base=float (input(\"Inserisci un valore per la base \"))\n",
    "altezza= float(input(\"inserisci un valore per l'altezza \"))\n",
    "print(\"il rettangolo di base \" \\\n",
    "      +str(base)+ \"e altezza \"+ \\\n",
    "      str(altezza)+  \"ha come area: \"+ str(base*altezza))"
   ]
  },
  {
   "cell_type": "code",
   "execution_count": 8,
   "id": "5071e672",
   "metadata": {},
   "outputs": [
    {
     "name": "stdout",
     "output_type": "stream",
     "text": [
      "Inserisci un valore per la base 4\n",
      "inserisci un valore per l'altezza 5\n",
      "il rettangolo di base 4.0 e altezza 5.0 ha area 20.0\n"
     ]
    }
   ],
   "source": [
    "base=float (input(\"Inserisci un valore per la base \"))\n",
    "altezza= float(input(\"inserisci un valore per l'altezza \"))\n",
    "print(\"il rettangolo di base\", base, \"e altezza\", altezza, \"ha area\", base*altezza)"
   ]
  },
  {
   "cell_type": "code",
   "execution_count": 11,
   "id": "3273e239",
   "metadata": {},
   "outputs": [
    {
     "name": "stdout",
     "output_type": "stream",
     "text": [
      "Inserisci un valore per la base 3\n",
      "inserisci un valore per l'altezza 2\n",
      "il rettangolo di base 3.0 e altezza 2.0 ha area 6.0\n"
     ]
    }
   ],
   "source": [
    "base=float (input(\"Inserisci un valore per la base \"))\n",
    "altezza= float(input(\"inserisci un valore per l'altezza \"))\n",
    "print(\"il rettangolo di base {} e altezza {} ha area {}\".format(base,altezza,base*altezza))"
   ]
  },
  {
   "cell_type": "code",
   "execution_count": 14,
   "id": "3781016f",
   "metadata": {},
   "outputs": [
    {
     "name": "stdout",
     "output_type": "stream",
     "text": [
      "dammi una stringa cicciobello\n",
      "dammi un'altra stringa bello\n",
      "stringa più corta bello\n"
     ]
    }
   ],
   "source": [
    "#programma per stampare la stringa più corta tra quelle fornite\n",
    "\n",
    "string1= input(\"dammi una stringa \")\n",
    "string2= input(\"dammi un'altra stringa \")\n",
    "#funzione predefinita di python len(s1) da il numero du caratteri\n",
    "len(string1), len(string2)\n",
    "\n",
    "if len(string1)<=len(string2):\n",
    "    print(\"stringa più corta\", string1)\n",
    "else:\n",
    "    print(\"stringa più corta\", string2)"
   ]
  },
  {
   "cell_type": "code",
   "execution_count": 15,
   "id": "f82a2489",
   "metadata": {},
   "outputs": [
    {
     "name": "stdout",
     "output_type": "stream",
     "text": [
      "dammi un numero 2\n",
      "ti saluto\n",
      "perchè mi hai dato un numero maggiore di 2\n"
     ]
    }
   ],
   "source": [
    "n=int(input(\"dammi un numero \"))\n",
    "\n",
    "if n<2:\n",
    "    #non fare niente con pass\n",
    "    pass\n",
    "else:\n",
    "    print(\"ti saluto\")\n",
    "    print(\"perchè mi hai dato un numero maggiore di 2\") #se li tengo allineati fanno parte di un unico blocco"
   ]
  },
  {
   "cell_type": "code",
   "execution_count": 16,
   "id": "798f802e",
   "metadata": {},
   "outputs": [
    {
     "name": "stdout",
     "output_type": "stream",
     "text": [
      "dammi un numero 4\n",
      "ok\n"
     ]
    }
   ],
   "source": [
    "n=int(input(\"dammi un numero \"))\n",
    "if n>=0 and n<=10: #con and e or possiamo aggiungere condizioni, posso inserire anche le parentesi\n",
    "    print(\"ok\")\n",
    "else:\n",
    "    print(\"no\")"
   ]
  },
  {
   "cell_type": "code",
   "execution_count": 18,
   "id": "256340ac",
   "metadata": {},
   "outputs": [
    {
     "name": "stdout",
     "output_type": "stream",
     "text": [
      "stringa? ciao bello amico\n",
      "stringa lunga\n"
     ]
    }
   ],
   "source": [
    "s=input(\"stringa? \")\n",
    "if len(s)<=4:\n",
    "    print(\"stringa corta\")\n",
    "else:\n",
    "    if len(s)<=8:\n",
    "        print(\"stringa media\")\n",
    "    else:\n",
    "        print(\"stringa lunga\")"
   ]
  },
  {
   "cell_type": "code",
   "execution_count": 19,
   "id": "5a296053",
   "metadata": {},
   "outputs": [
    {
     "name": "stdout",
     "output_type": "stream",
     "text": [
      "stringa? funziona anche se lo scrivo così\n",
      "stringa lunga\n"
     ]
    }
   ],
   "source": [
    "s=input(\"stringa? \")\n",
    "if len(s)<=4:\n",
    "    print(\"stringa corta\")\n",
    "elif len(s)<=8:\n",
    "    print(\"stringa media\")\n",
    "else:\n",
    "    print(\"stringa lunga\")"
   ]
  },
  {
   "cell_type": "code",
   "execution_count": 20,
   "id": "a5acfaef",
   "metadata": {},
   "outputs": [
    {
     "name": "stdout",
     "output_type": "stream",
     "text": [
      "0\n",
      "1\n",
      "2\n",
      "3\n",
      "4\n",
      "5\n",
      "6\n"
     ]
    }
   ],
   "source": [
    "#cicli while e for\n",
    "\n",
    "#while \n",
    "#esercicio: stampare i numeri da 0 a 6\n",
    "\n",
    "n=0 #inizializzazione\n",
    "while n<=6:\n",
    "    print(n)#istruzione del loop\n",
    "    n=n+1 #aggiornamento da inserire sempre perchè se no è un loop continuo\n",
    "    #n+=1 è equivalente "
   ]
  },
  {
   "cell_type": "code",
   "execution_count": 21,
   "id": "fedb0314",
   "metadata": {},
   "outputs": [
    {
     "name": "stdout",
     "output_type": "stream",
     "text": [
      "dammi un intero2\n",
      "dammi un intero4\n",
      "dammi un intero7\n"
     ]
    }
   ],
   "source": [
    "#while senza sapere quando finisce\n",
    "totale=0\n",
    "while totale<10:\n",
    "    incremento=int(input(\"dammi un intero\" ))\n",
    "    totale+=incremento #chiede numeri fino a quando arrivo a 10"
   ]
  },
  {
   "cell_type": "code",
   "execution_count": 23,
   "id": "da58421f",
   "metadata": {},
   "outputs": [
    {
     "name": "stdout",
     "output_type": "stream",
     "text": [
      "0\n",
      "1\n",
      "2\n",
      "3\n",
      "4\n",
      "5\n",
      "6\n",
      "7\n",
      "8\n",
      "9\n",
      "10\n"
     ]
    }
   ],
   "source": [
    "#ciclo for\n",
    "#si esegue su tutte le strutture iterabili\n",
    "#vogliamo stampare i numero da 0 a 10\n",
    "\n",
    "for x in range(11):\n",
    "    print(x)"
   ]
  },
  {
   "cell_type": "code",
   "execution_count": 24,
   "id": "a718ffd7",
   "metadata": {},
   "outputs": [
    {
     "name": "stdout",
     "output_type": "stream",
     "text": [
      "3\n",
      "5\n",
      "7\n",
      "9\n"
     ]
    }
   ],
   "source": [
    "for x in range(3,11,2): #start, end, step nella callback\n",
    "    print(x)"
   ]
  },
  {
   "cell_type": "code",
   "execution_count": 25,
   "id": "3516b56d",
   "metadata": {},
   "outputs": [
    {
     "name": "stdout",
     "output_type": "stream",
     "text": [
      "1\n",
      "11\n",
      "13\n",
      "17\n",
      "19\n",
      "23\n",
      "29\n",
      "31\n",
      "37\n",
      "41\n",
      "43\n",
      "47\n",
      "53\n",
      "59\n",
      "61\n",
      "67\n",
      "71\n",
      "73\n",
      "79\n",
      "83\n",
      "89\n",
      "97\n"
     ]
    }
   ],
   "source": [
    "#stampare tutti i numeri tra 0 e 100\n",
    "#che non sono multipli di 2,3,5,7\n",
    "for x in range(100):\n",
    "    if x%2 !=0 and\\\n",
    "       x%3 !=0 and\\\n",
    "       x%5 !=0 and\\\n",
    "       x%7 !=0 :\n",
    "        print(x)"
   ]
  },
  {
   "cell_type": "code",
   "execution_count": 1,
   "id": "ec339cbf",
   "metadata": {},
   "outputs": [
    {
     "name": "stdout",
     "output_type": "stream",
     "text": [
      "Inserisci un valore per la base 56\n",
      "inserisci un valore per l'altezza 45\n",
      "il rettangolo di base 56.0 e altezza 45.0 ha area 2520.0\n"
     ]
    }
   ],
   "source": [
    "base=float (input(\"Inserisci un valore per la base \"))\n",
    "altezza= float(input(\"inserisci un valore per l'altezza \"))\n",
    "print(\"il rettangolo di base\", base, \"e altezza\", altezza, \"ha area\", base*altezza)\n"
   ]
  },
  {
   "cell_type": "code",
   "execution_count": null,
   "id": "6d43ab61",
   "metadata": {},
   "outputs": [],
   "source": []
  }
 ],
 "metadata": {
  "kernelspec": {
   "display_name": "Python 3 (ipykernel)",
   "language": "python",
   "name": "python3"
  },
  "language_info": {
   "codemirror_mode": {
    "name": "ipython",
    "version": 3
   },
   "file_extension": ".py",
   "mimetype": "text/x-python",
   "name": "python",
   "nbconvert_exporter": "python",
   "pygments_lexer": "ipython3",
   "version": "3.9.7"
  }
 },
 "nbformat": 4,
 "nbformat_minor": 5
}
