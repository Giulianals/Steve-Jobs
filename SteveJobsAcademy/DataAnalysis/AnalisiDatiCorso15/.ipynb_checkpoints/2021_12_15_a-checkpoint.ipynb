{
 "cells": [
  {
   "cell_type": "code",
   "execution_count": 1,
   "id": "db53e0cd",
   "metadata": {},
   "outputs": [
    {
     "name": "stdout",
     "output_type": "stream",
     "text": [
      "Hello World\n"
     ]
    }
   ],
   "source": [
    "print (\"Hello World\")"
   ]
  },
  {
   "cell_type": "code",
   "execution_count": 2,
   "id": "e6c9f8d7",
   "metadata": {},
   "outputs": [
    {
     "data": {
      "text/plain": [
       "'\"\\nCommento multi riga \\n'"
      ]
     },
     "execution_count": 2,
     "metadata": {},
     "output_type": "execute_result"
    }
   ],
   "source": [
    "#Commento singola riga\n",
    "\n",
    "\"\"\"\" \n",
    "Commento multi riga \n",
    "\n",
    "\"\"\"\n"
   ]
  },
  {
   "cell_type": "code",
   "execution_count": 21,
   "id": "1b92f439",
   "metadata": {
    "scrolled": false
   },
   "outputs": [
    {
     "name": "stdout",
     "output_type": "stream",
     "text": [
      "4 Somma\n",
      "4 Moltiplicazione\n",
      "1.0 Divisione\n",
      "1 Divisione intera\n",
      "8 Elevazione\n",
      "2\n"
     ]
    }
   ],
   "source": [
    "#aritmetica\n",
    "print(2+2, \"Somma\")\n",
    "print(2*2, \"Moltiplicazione\")\n",
    "print(2/2, \"Divisione\") #sempre float\n",
    "print(2//2, \"Divisione intera\") #divisione intera\n",
    "#1/0 genera un errore, se ci sta un errore si ferma\n",
    "print (2**3, \"Elevazione\") #2^3\n",
    "4**(1/2) #(1/2 è radice quadrata)\n",
    "abs (-1) #assoluto, numero senza segno\n",
    "print (17%3) #resto divisione intera"
   ]
  },
  {
   "cell_type": "code",
   "execution_count": 49,
   "id": "c1b9e502",
   "metadata": {},
   "outputs": [
    {
     "name": "stdout",
     "output_type": "stream",
     "text": [
      "<class 'int'>\n",
      "<class 'float'>\n",
      "<class 'str'> <class 'str'>\n",
      "<class 'list'>\n"
     ]
    },
    {
     "data": {
      "text/plain": [
       "1"
      ]
     },
     "execution_count": 49,
     "metadata": {},
     "output_type": "execute_result"
    }
   ],
   "source": [
    "#tipi di informazioni di base\n",
    "#integer int\n",
    "\n",
    "a=2\n",
    "print(type(a))\n",
    "\n",
    "#float \n",
    "b=1.0\n",
    "print(type(b))\n",
    "\n",
    "#string\n",
    "c=\"Ciao\"\n",
    "d=\"mondo\"\n",
    "print(type(c),type(d))\n",
    "\n",
    "#array\n",
    "\n",
    "e= [\"cavolo\",\"pomodoro\"]\n",
    "\n",
    "print(type(e))\n",
    "\n",
    "#boolean \n",
    "\n",
    "True  #T Sempre Maiuscola!\n",
    "False #F Sempre Maiuscola!\n",
    "\n",
    "# combinazioni logiche operatori logici\n",
    "\n",
    "True and True #True \n",
    "True & True #Equivalente\n",
    "\n",
    "True and False #False\n",
    "\n",
    "True or False #True\n",
    "True | False #Equivalente\n",
    "\n",
    "not True #False\n",
    "\n",
    "not False #True\n",
    "\n",
    "-False # automaticamente trasferisce i booleani in numeri\n",
    "+True \n"
   ]
  },
  {
   "cell_type": "code",
   "execution_count": 41,
   "id": "62b9a9a5",
   "metadata": {},
   "outputs": [
    {
     "name": "stdout",
     "output_type": "stream",
     "text": [
      "1 2 3\n",
      "ciao mondo 5\n",
      "Ciao mondo\n",
      "Ciao 5\n",
      "Ciao Ciao Ciao Ciao Ciao Ciao Ciao Ciao Ciao Ciao \n"
     ]
    }
   ],
   "source": [
    "#print\n",
    "\n",
    "print(1,2,3)\n",
    "print (\"ciao\", \"mondo\", 5)\n",
    "\n",
    "#operazioni stringhe\n",
    "print (c+\" \"+d)\n",
    "\n",
    "# c+5 è un errore, conversione in stringa:\n",
    "\n",
    "print (c+\" \"+str(5))\n",
    "\n",
    "#è possibile moltiplicare le stringhe \n",
    "\n",
    "print ((c+\" \")*10)\n"
   ]
  },
  {
   "cell_type": "markdown",
   "id": "969fef80",
   "metadata": {},
   "source": [
    "Guglielmo De Caro # Inizio sezione Markdown"
   ]
  },
  {
   "cell_type": "markdown",
   "id": "78e03ec7",
   "metadata": {},
   "source": [
    "Possiamo usare l HTML \n"
   ]
  },
  {
   "cell_type": "markdown",
   "id": "bbc94ded",
   "metadata": {},
   "source": [
    "<b> Ciao\n",
    "<title> MONDO!"
   ]
  },
  {
   "cell_type": "markdown",
   "id": "b1481c54",
   "metadata": {},
   "source": [
    "Dimostriamo l'uso dei comandi tipici di Jupiter \n",
    "\n",
    "# Questo è un titolo\n",
    "## Questo è un titolo piu' piccolo\n",
    "### Questo ancora piu' piccolo\n",
    "###### Piccolissimo, h6\n",
    "\n",
    "Per fare grassetto_bold si usa doppio __ (si chiude con __ )\n",
    "\n",
    "__ciao__\n",
    "\n",
    "corsivo, solo un \" _ \" \n",
    "\n",
    "_mondo_ \n",
    "\n",
    "bold + corsivo =  ___ \n",
    "\n",
    "___che bella giornata___"
   ]
  },
  {
   "cell_type": "markdown",
   "id": "1c6c490b",
   "metadata": {},
   "source": [
    "un rigo vuoto per andare a capo"
   ]
  },
  {
   "cell_type": "code",
   "execution_count": null,
   "id": "d6b21f8e",
   "metadata": {},
   "outputs": [],
   "source": []
  }
 ],
 "metadata": {
  "kernelspec": {
   "display_name": "Python 3 (ipykernel)",
   "language": "python",
   "name": "python3"
  },
  "language_info": {
   "codemirror_mode": {
    "name": "ipython",
    "version": 3
   },
   "file_extension": ".py",
   "mimetype": "text/x-python",
   "name": "python",
   "nbconvert_exporter": "python",
   "pygments_lexer": "ipython3",
   "version": "3.9.7"
  }
 },
 "nbformat": 4,
 "nbformat_minor": 5
}
