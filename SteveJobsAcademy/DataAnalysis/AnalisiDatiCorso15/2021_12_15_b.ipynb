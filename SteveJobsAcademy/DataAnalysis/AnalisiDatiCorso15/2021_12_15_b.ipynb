{
 "cells": [
  {
   "cell_type": "code",
   "execution_count": null,
   "id": "2873cff6",
   "metadata": {},
   "outputs": [],
   "source": [
    "# programmazione\n",
    "\n",
    "# strutture di controllo\n",
    "\n",
    "# assegnamento automatico, crea la variabile e le assegna il tipo (\"duck typing\") molto utile, vedi variabile \"e\"\n",
    "\n",
    "a=1\n",
    "b=2.1\n",
    "c=\"ciao\"\n",
    "d=True\n",
    "e = a+b \n",
    "print (type(e))"
   ]
  },
  {
   "cell_type": "code",
   "execution_count": null,
   "id": "9094324c",
   "metadata": {},
   "outputs": [],
   "source": [
    "ls "
   ]
  },
  {
   "cell_type": "code",
   "execution_count": null,
   "id": "fb3c4418",
   "metadata": {},
   "outputs": [],
   "source": [
    "pwd #acronimo print working directory "
   ]
  },
  {
   "cell_type": "code",
   "execution_count": null,
   "id": "d9e6dad9",
   "metadata": {},
   "outputs": [],
   "source": [
    "dir() #funzione predefinita python che racconta quello che c'è dentro la memoria riferito solo a python"
   ]
  },
  {
   "cell_type": "code",
   "execution_count": 32,
   "id": "c1d65029",
   "metadata": {},
   "outputs": [
    {
     "name": "stdout",
     "output_type": "stream",
     "text": [
      "digita Base10\n",
      "digita Altezza20\n",
      "200.0\n"
     ]
    }
   ],
   "source": [
    "# Calcolo area rettangolo, ottendendo i valiri base ed altezza in modo interattivo dall'utente\n",
    "\n",
    "# base = input (\"digita Base\")\n",
    "# altezza = input (\"digita Altezza\")\n",
    "# se voglio che venga trattato da numero, devo forzare il tipo! \"casting\"\n",
    "base = float(input (\"digita Base\"))\n",
    "altezza = float(input (\"digita Altezza\"))\n",
    "\n",
    "if base == altezza : print (\"Non un rettangolo\") \n",
    "else: area=base*altezza, print(area)\n",
    "    \n",
    "\n",
    "      \n"
   ]
  },
  {
   "cell_type": "code",
   "execution_count": 46,
   "id": "3a22212b",
   "metadata": {},
   "outputs": [
    {
     "name": "stdout",
     "output_type": "stream",
     "text": [
      " Dammi una stringa ciao\n",
      " Dammi un altra stringa mondo\n",
      " stringa piu' corta  ciao\n"
     ]
    },
    {
     "ename": "TypeError",
     "evalue": "len() takes exactly one argument (2 given)",
     "output_type": "error",
     "traceback": [
      "\u001b[1;31m---------------------------------------------------------------------------\u001b[0m",
      "\u001b[1;31mTypeError\u001b[0m                                 Traceback (most recent call last)",
      "\u001b[1;32m~\\AppData\\Local\\Temp/ipykernel_14420/331565758.py\u001b[0m in \u001b[0;36m<module>\u001b[1;34m\u001b[0m\n\u001b[0;32m      7\u001b[0m \u001b[1;32mif\u001b[0m \u001b[0mlen\u001b[0m\u001b[1;33m(\u001b[0m\u001b[0ms1\u001b[0m\u001b[1;33m)\u001b[0m \u001b[1;33m<\u001b[0m \u001b[0mlen\u001b[0m\u001b[1;33m(\u001b[0m\u001b[0ms2\u001b[0m\u001b[1;33m)\u001b[0m\u001b[1;33m:\u001b[0m\u001b[1;33m\u001b[0m\u001b[1;33m\u001b[0m\u001b[0m\n\u001b[0;32m      8\u001b[0m     \u001b[0mprint\u001b[0m \u001b[1;33m(\u001b[0m\u001b[1;34m\" stringa piu' corta \"\u001b[0m\u001b[1;33m,\u001b[0m \u001b[0ms1\u001b[0m\u001b[1;33m)\u001b[0m\u001b[1;33m\u001b[0m\u001b[1;33m\u001b[0m\u001b[0m\n\u001b[1;32m----> 9\u001b[1;33m \u001b[1;32mif\u001b[0m \u001b[0mlen\u001b[0m\u001b[1;33m(\u001b[0m\u001b[0ms1\u001b[0m\u001b[1;33m)\u001b[0m\u001b[1;33m>\u001b[0m\u001b[0mlen\u001b[0m\u001b[1;33m(\u001b[0m\u001b[1;34m\" stringa piu' corta \"\u001b[0m\u001b[1;33m,\u001b[0m \u001b[0ms2\u001b[0m\u001b[1;33m)\u001b[0m\u001b[1;33m:\u001b[0m\u001b[1;33m\u001b[0m\u001b[1;33m\u001b[0m\u001b[0m\n\u001b[0m\u001b[0;32m     10\u001b[0m     \u001b[0mprint\u001b[0m \u001b[1;33m(\u001b[0m\u001b[0ms2\u001b[0m\u001b[1;33m)\u001b[0m\u001b[1;33m\u001b[0m\u001b[1;33m\u001b[0m\u001b[0m\n\u001b[0;32m     11\u001b[0m \u001b[1;32mif\u001b[0m \u001b[0mlen\u001b[0m\u001b[1;33m(\u001b[0m\u001b[0ms1\u001b[0m\u001b[1;33m)\u001b[0m\u001b[1;33m==\u001b[0m\u001b[0mlen\u001b[0m\u001b[1;33m(\u001b[0m\u001b[0ms2\u001b[0m\u001b[1;33m)\u001b[0m\u001b[1;33m:\u001b[0m\u001b[1;33m\u001b[0m\u001b[1;33m\u001b[0m\u001b[0m\n",
      "\u001b[1;31mTypeError\u001b[0m: len() takes exactly one argument (2 given)"
     ]
    }
   ],
   "source": [
    "# programma per stampare la stringa piu' corta tra due fornite dall'utente\n",
    "s1 = input (\" Dammi una stringa \")\n",
    "s2 = input (\" Dammi un altra stringa \")\n",
    "# funzione predefinita di python, len(variabile) da il numero di caratteri\n",
    "\n",
    "\n",
    "if len(s1) < len(s2):\n",
    "    print (\" stringa piu' corta \", s1)\n",
    "if len(s1)>len(\" stringa piu' corta \", s2):\n",
    "    print (s2)\n",
    "if len(s1)==len(s2):\n",
    "    print(\"stringhe delle stesse dimensioni\")"
   ]
  },
  {
   "cell_type": "code",
   "execution_count": 51,
   "id": "c764a4b5",
   "metadata": {},
   "outputs": [
    {
     "name": "stdout",
     "output_type": "stream",
     "text": [
      "dammi un numero 10\n",
      "Ti saluto\n",
      "Perchè mi hai dato un numero >=2\n"
     ]
    }
   ],
   "source": [
    "# altro con l'if\n",
    "n= int (input(\"dammi un numero \"))\n",
    "#se n < 2 non far nulla. >=2 stampa saluto su piu' righe\n",
    "\n",
    "if n<2 :\n",
    "    pass\n",
    "else: \n",
    "    print(\"Ti saluto\")\n",
    "    print(\"Perchè mi hai dato un numero >=2\")"
   ]
  },
  {
   "cell_type": "code",
   "execution_count": 54,
   "id": "7fa20457",
   "metadata": {},
   "outputs": [
    {
     "name": "stdout",
     "output_type": "stream",
     "text": [
      "dammi un numero 10\n",
      "ok\n"
     ]
    }
   ],
   "source": [
    "# piu' condizioni caso 1\n",
    "#dire ok se un numero è tra 0 e 10 (inclusi 0 e 10)\n",
    "#dire no se un numero è minore di 0 o maggiore di 10\n",
    "\n",
    "n= int (input(\"dammi un numero \"))\n",
    "\n",
    "if (n>=0 and n<=10) :\n",
    "    print(\"ok\")\n",
    "else:\n",
    "    print(\"no\")\n"
   ]
  },
  {
   "cell_type": "code",
   "execution_count": null,
   "id": "4014128b",
   "metadata": {},
   "outputs": [],
   "source": [
    "#data una stringa decidere se è corta (<=4 caratteri), media (<=8), lunga (>8)"
   ]
  },
  {
   "cell_type": "code",
   "execution_count": 56,
   "id": "df08ebfd",
   "metadata": {},
   "outputs": [
    {
     "name": "stdout",
     "output_type": "stream",
     "text": [
      " Stringa in input ciaone\n",
      "stringa corta\n"
     ]
    }
   ],
   "source": [
    "s= input (\" Stringa in input \")\n",
    "if len(s) <=4 :\n",
    "    print(\"stringa corta\")\n",
    "else:\n",
    "    if len(s) <=8:\n",
    "        print(\"stringa corta\")\n",
    "    else:\n",
    "        print(\"stringa lunga\")"
   ]
  },
  {
   "cell_type": "code",
   "execution_count": 58,
   "id": "bc04171a",
   "metadata": {},
   "outputs": [
    {
     "name": "stdout",
     "output_type": "stream",
     "text": [
      "Stringa in input ciaone\n",
      "stringa corta\n"
     ]
    }
   ],
   "source": [
    "#versione corta \n",
    "\n",
    "s= input (\"Stringa in input \")\n",
    "if len(s) <=4 :\n",
    "    print(\"stringa corta\")\n",
    "elif len(s) <=8:\n",
    "    print(\"stringa corta\")\n",
    "else:\n",
    "    print(\"stringa lunga\")"
   ]
  },
  {
   "cell_type": "code",
   "execution_count": 60,
   "id": "f50639a5",
   "metadata": {},
   "outputs": [
    {
     "name": "stdout",
     "output_type": "stream",
     "text": [
      "0\n",
      "1\n",
      "2\n",
      "3\n",
      "4\n",
      "5\n",
      "6\n"
     ]
    }
   ],
   "source": [
    "#cicli while\n",
    "\n",
    "n=0 #inizializzazione\n",
    "\n",
    "while n<=6:\n",
    "    print(n)\n",
    "    n=n+1"
   ]
  },
  {
   "cell_type": "code",
   "execution_count": 63,
   "id": "61ec6c26",
   "metadata": {},
   "outputs": [
    {
     "name": "stdout",
     "output_type": "stream",
     "text": [
      "dammi un intero-100\n",
      "dammi un intero90\n",
      "dammi un intero12\n",
      "dammi un intero12\n"
     ]
    }
   ],
   "source": [
    "#while senza sapere quando finisce\n",
    "tot=0\n",
    "\n",
    "while tot<=10:\n",
    "    incremento=int(input(\"dammi un intero\"))\n",
    "    tot=tot+incremento"
   ]
  },
  {
   "cell_type": "code",
   "execution_count": 66,
   "id": "1496fed5",
   "metadata": {},
   "outputs": [
    {
     "name": "stdout",
     "output_type": "stream",
     "text": [
      "0\n",
      "1\n",
      "2\n",
      "3\n",
      "4\n",
      "5\n",
      "6\n",
      "7\n",
      "8\n",
      "9\n"
     ]
    }
   ],
   "source": [
    "# for si esegue su tutte le strutture iterabili\n",
    "#stampare i numeri da 0 a 10\n",
    "\n",
    "for n in range(10): \n",
    "    print(n)"
   ]
  },
  {
   "cell_type": "code",
   "execution_count": 68,
   "id": "739c79b5",
   "metadata": {},
   "outputs": [
    {
     "name": "stdout",
     "output_type": "stream",
     "text": [
      "3\n",
      "5\n",
      "7\n",
      "9\n",
      "11\n"
     ]
    }
   ],
   "source": [
    "# for si esegue su tutte le strutture iterabili\n",
    "#stampare i numeri da 0 a 10\n",
    "\n",
    "# for n in range(start=3,end=11,step=2): \n",
    "\n",
    "for n in range(3,12,2): \n",
    "    print(n)"
   ]
  },
  {
   "cell_type": "code",
   "execution_count": 70,
   "id": "9a5a8bfe",
   "metadata": {},
   "outputs": [
    {
     "name": "stdout",
     "output_type": "stream",
     "text": [
      "1\n",
      "11\n",
      "13\n",
      "17\n",
      "19\n",
      "23\n",
      "29\n",
      "31\n",
      "37\n",
      "41\n",
      "43\n",
      "47\n",
      "53\n",
      "59\n",
      "61\n",
      "67\n",
      "71\n",
      "73\n",
      "79\n",
      "83\n",
      "89\n",
      "97\n"
     ]
    }
   ],
   "source": [
    "#stampare tutti i numeri tra 0 e 100 che non sono multipli di 2, 3, 5 , 7\n",
    "\n",
    "for x in range(100):\n",
    "    if x%2 !=0 and x%3 !=0 and x%5 !=0  and x%7 !=0:\n",
    "        print(x)"
   ]
  },
  {
   "cell_type": "code",
   "execution_count": null,
   "id": "4ff0c6b7",
   "metadata": {},
   "outputs": [],
   "source": []
  }
 ],
 "metadata": {
  "kernelspec": {
   "display_name": "Python 3 (ipykernel)",
   "language": "python",
   "name": "python3"
  },
  "language_info": {
   "codemirror_mode": {
    "name": "ipython",
    "version": 3
   },
   "file_extension": ".py",
   "mimetype": "text/x-python",
   "name": "python",
   "nbconvert_exporter": "python",
   "pygments_lexer": "ipython3",
   "version": "3.9.7"
  }
 },
 "nbformat": 4,
 "nbformat_minor": 5
}
