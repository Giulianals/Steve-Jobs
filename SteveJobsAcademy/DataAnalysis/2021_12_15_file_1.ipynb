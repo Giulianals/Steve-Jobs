{
 "cells": [
  {
   "cell_type": "code",
   "execution_count": 1,
   "id": "702f194e",
   "metadata": {},
   "outputs": [
    {
     "name": "stdout",
     "output_type": "stream",
     "text": [
      "Ciao Scema\n"
     ]
    }
   ],
   "source": [
    "print(\"Ciao Scema\")"
   ]
  },
  {
   "cell_type": "code",
   "execution_count": 2,
   "id": "dc9c9217",
   "metadata": {},
   "outputs": [
    {
     "data": {
      "text/plain": [
       "'ciaomondo'"
      ]
     },
     "execution_count": 2,
     "metadata": {},
     "output_type": "execute_result"
    }
   ],
   "source": [
    "#operazioni stringhe\n",
    "c=\"ciao\"\n",
    "d=\"mondo\"\n",
    "c+d #viene stampato l'ultimo comando, quindi la concatenazione delle due "
   ]
  },
  {
   "cell_type": "code",
   "execution_count": 3,
   "id": "59d62d67",
   "metadata": {},
   "outputs": [
    {
     "ename": "TypeError",
     "evalue": "can only concatenate str (not \"int\") to str",
     "output_type": "error",
     "traceback": [
      "\u001b[0;31m---------------------------------------------------------------------------\u001b[0m",
      "\u001b[0;31mTypeError\u001b[0m                                 Traceback (most recent call last)",
      "\u001b[0;32m/var/folders/hn/_2cszyjs7z77jc92tjpnw2_r0000gn/T/ipykernel_8690/2791168140.py\u001b[0m in \u001b[0;36m<module>\u001b[0;34m\u001b[0m\n\u001b[1;32m      1\u001b[0m \u001b[0mc\u001b[0m\u001b[0;34m=\u001b[0m\u001b[0;34m\"ciao\"\u001b[0m\u001b[0;34m\u001b[0m\u001b[0;34m\u001b[0m\u001b[0m\n\u001b[1;32m      2\u001b[0m \u001b[0md\u001b[0m\u001b[0;34m=\u001b[0m\u001b[0;34m\"mondo\"\u001b[0m\u001b[0;34m\u001b[0m\u001b[0;34m\u001b[0m\u001b[0m\n\u001b[0;32m----> 3\u001b[0;31m \u001b[0mc\u001b[0m\u001b[0;34m+\u001b[0m\u001b[0;36m5\u001b[0m\u001b[0;34m\u001b[0m\u001b[0;34m\u001b[0m\u001b[0m\n\u001b[0m",
      "\u001b[0;31mTypeError\u001b[0m: can only concatenate str (not \"int\") to str"
     ]
    }
   ],
   "source": [
    "c=\"ciao\"\n",
    "d=\"mondo\"\n",
    "c+5"
   ]
  },
  {
   "cell_type": "code",
   "execution_count": 4,
   "id": "048fb243",
   "metadata": {},
   "outputs": [
    {
     "data": {
      "text/plain": [
       "'ciao5'"
      ]
     },
     "execution_count": 4,
     "metadata": {},
     "output_type": "execute_result"
    }
   ],
   "source": [
    "c=\"ciao\"\n",
    "d=\"mondo\"\n",
    "c+str(5) #forzo il custing quindi faccio diventare 5 una stringa \n"
   ]
  },
  {
   "cell_type": "code",
   "execution_count": 5,
   "id": "f3081090",
   "metadata": {},
   "outputs": [
    {
     "data": {
      "text/plain": [
       "'ciaociaociao'"
      ]
     },
     "execution_count": 5,
     "metadata": {},
     "output_type": "execute_result"
    }
   ],
   "source": [
    "c=\"ciao\"\n",
    "d=\"mondo\"\n",
    "c*3 #moltiplica la stringa per 3 volte\n"
   ]
  },
  {
   "cell_type": "code",
   "execution_count": null,
   "id": "126f7cdc",
   "metadata": {},
   "outputs": [],
   "source": []
  },
  {
   "cell_type": "code",
   "execution_count": 3,
   "id": "3043d23a",
   "metadata": {},
   "outputs": [
    {
     "data": {
      "text/plain": [
       "False"
      ]
     },
     "execution_count": 3,
     "metadata": {},
     "output_type": "execute_result"
    }
   ],
   "source": [
    "#combinazioni logiche degli operatori logici\n",
    "\n",
    "True & True #true\n",
    "True and False #false\n"
   ]
  },
  {
   "cell_type": "code",
   "execution_count": null,
   "id": "e298ddb8",
   "metadata": {},
   "outputs": [],
   "source": []
  },
  {
   "cell_type": "markdown",
   "id": "54ccc53b",
   "metadata": {},
   "source": [
    "#titolo grande\n",
    "##titolo più piccolo"
   ]
  },
  {
   "cell_type": "markdown",
   "id": "548ab991",
   "metadata": {},
   "source": []
  }
 ],
 "metadata": {
  "kernelspec": {
   "display_name": "Python 3 (ipykernel)",
   "language": "python",
   "name": "python3"
  },
  "language_info": {
   "codemirror_mode": {
    "name": "ipython",
    "version": 3
   },
   "file_extension": ".py",
   "mimetype": "text/x-python",
   "name": "python",
   "nbconvert_exporter": "python",
   "pygments_lexer": "ipython3",
   "version": "3.9.7"
  }
 },
 "nbformat": 4,
 "nbformat_minor": 5
}
